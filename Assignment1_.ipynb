{
  "nbformat": 4,
  "nbformat_minor": 0,
  "metadata": {
    "colab": {
      "provenance": []
    },
    "kernelspec": {
      "name": "python3",
      "display_name": "Python 3"
    },
    "language_info": {
      "name": "python"
    }
  },
  "cells": [
    {
      "cell_type": "markdown",
      "source": [
        "# ***Question 1***"
      ],
      "metadata": {
        "id": "LLKQtlxO54bh"
      }
    },
    {
      "cell_type": "markdown",
      "source": [
        "1.Exercise 1 Write Python code that prints your name, student number and email address. An example runs of the program: Bob ST1001 bob@gmail.com1"
      ],
      "metadata": {
        "id": "nAW0uoXB6PB-"
      }
    },
    {
      "cell_type": "code",
      "source": [
        "name = \"Bob\"\n",
        "student_number = \"ST1001\"\n",
        "email = \"bob@gmail.com\"\n",
        "print(name)\n",
        "print(student_number)\n",
        "print(email)"
      ],
      "metadata": {
        "colab": {
          "base_uri": "https://localhost:8080/"
        },
        "id": "abd4x93z6M2l",
        "outputId": "120eb0bb-a644-410f-fe2e-f05eabe2c960"
      },
      "execution_count": null,
      "outputs": [
        {
          "output_type": "stream",
          "name": "stdout",
          "text": [
            "Bob\n",
            "ST1001\n",
            "bob@gmail.com\n"
          ]
        }
      ]
    },
    {
      "cell_type": "markdown",
      "source": [
        "# ***Question 2***"
      ],
      "metadata": {
        "id": "SolgHGKgFtYW"
      }
    },
    {
      "cell_type": "markdown",
      "source": [
        "Write Python code that prints your name, student number and email address using escape sequences.     \n",
        "An example runs of the program:\n",
        "Bob\n",
        "ST1001\n",
        "bob@gmail.com\n"
      ],
      "metadata": {
        "id": "AFkYZwDIF--n"
      }
    },
    {
      "cell_type": "code",
      "source": [
        "name = \"Bob\"\n",
        "student_number = \"ST1001\"\n",
        "email = \"bob@gmail.com\"\n",
        "\n",
        "print(\"Bob\\nST1001\\nbob@gmail.com\")"
      ],
      "metadata": {
        "colab": {
          "base_uri": "https://localhost:8080/"
        },
        "id": "-tgObG7jGDj8",
        "outputId": "b54852a8-64b5-4762-ee3f-c9b846fe9d6f"
      },
      "execution_count": null,
      "outputs": [
        {
          "output_type": "stream",
          "name": "stdout",
          "text": [
            "Bob\n",
            "ST1001\n",
            "bob@gmail.com\n"
          ]
        }
      ]
    },
    {
      "cell_type": "markdown",
      "source": [
        "# ***Question 3***"
      ],
      "metadata": {
        "id": "746d7o14IbFx"
      }
    },
    {
      "cell_type": "markdown",
      "source": [
        "Write Python code that add, subtract, multiply and divide the two numbers. You can use the two numbers 14 and 7.  An example run of the program:  \n",
        "14 + 7 = 21\n",
        "14 * 7 = 98\n",
        "14 – 7 = 7\n",
        "14 / 7 = 2\n"
      ],
      "metadata": {
        "id": "IV0SLwBtIt_e"
      }
    },
    {
      "cell_type": "code",
      "source": [
        "x = 14\n",
        "y = 7\n",
        "print(x+y)\n",
        "print(x-y)\n",
        "print(x*y)\n",
        "print(x/y)"
      ],
      "metadata": {
        "colab": {
          "base_uri": "https://localhost:8080/"
        },
        "id": "wJrYKWkPHMIS",
        "outputId": "6fda31a7-1d6e-4dc4-aed0-61280535ebad"
      },
      "execution_count": null,
      "outputs": [
        {
          "output_type": "stream",
          "name": "stdout",
          "text": [
            "21\n",
            "7\n",
            "98\n",
            "2.0\n"
          ]
        }
      ]
    },
    {
      "cell_type": "markdown",
      "source": [
        "# ***Question 4***"
      ],
      "metadata": {
        "id": "1tjSiK0IJg6R"
      }
    },
    {
      "cell_type": "markdown",
      "source": [
        "Write Python code that displays the numbers from 1 to 5 as steps.\n",
        "An example runs of the program:\n",
        "1\n",
        "2\n",
        "3\n",
        "4\n",
        "5\n"
      ],
      "metadata": {
        "id": "boVXCMJYJ_y1"
      }
    },
    {
      "cell_type": "code",
      "source": [
        "for number in range(1, 6):\n",
        "    print(number)"
      ],
      "metadata": {
        "colab": {
          "base_uri": "https://localhost:8080/"
        },
        "id": "9f2E6sUXJaFs",
        "outputId": "6222b0a8-3ac9-4f60-8336-257419c705f2"
      },
      "execution_count": null,
      "outputs": [
        {
          "output_type": "stream",
          "name": "stdout",
          "text": [
            "1\n",
            "2\n",
            "3\n",
            "4\n",
            "5\n"
          ]
        }
      ]
    },
    {
      "cell_type": "markdown",
      "source": [
        "# ***Question 5***"
      ],
      "metadata": {
        "id": "MGhcHo_QKjhX"
      }
    },
    {
      "cell_type": "markdown",
      "source": [
        "Write Python code that outputs the following sentence (including the quotation marks and line break) to the screen:\n",
        "An example runs of the program:  \n",
        "\"SDK\" stands for \"Software Development Kit\", whereas\n",
        "\"IDE\" stands for \"Integrated Development Environment\".\n"
      ],
      "metadata": {
        "id": "d4QRsR4GKoGj"
      }
    },
    {
      "cell_type": "code",
      "source": [
        "print(\"\\\"SDK\\\" stands for \\\"Software Development Kit\\\", whereas\\n\\\"IDE\\\" stands for \\\"Integrated Development Environment\\\".\")"
      ],
      "metadata": {
        "colab": {
          "base_uri": "https://localhost:8080/"
        },
        "id": "DUSiu8cvKZDZ",
        "outputId": "a8789db0-3369-42aa-ff3a-eb525b276bc2"
      },
      "execution_count": null,
      "outputs": [
        {
          "output_type": "stream",
          "name": "stdout",
          "text": [
            "\"SDK\" stands for \"Software Development Kit\", whereas\n",
            "\"IDE\" stands for \"Integrated Development Environment\".\n"
          ]
        }
      ]
    },
    {
      "cell_type": "markdown",
      "source": [
        "# ***Question 6***"
      ],
      "metadata": {
        "id": "sd0vA4lrLpiL"
      }
    },
    {
      "cell_type": "markdown",
      "source": [
        "Practice and check the output\n",
        "print(\"python is an \\\"awesome\\\" language.\")"
      ],
      "metadata": {
        "id": "iim9Y2tdL5AJ"
      }
    },
    {
      "cell_type": "code",
      "source": [
        "\n",
        "print(\"python is an \\\"awesome\\\" language.\")\n",
        "print(\"python\\n\\t2023\")\n",
        "print('I\\'m from Entri.\\b')\n",
        "print(\"\\65\")\n",
        "print(\"\\x65\")\n",
        "print(\"Entri\", \"2023\", sep=\"\\n\")\n",
        "print(\"Entri\", \"2023\", sep=\"\\b\")\n",
        "print(\"Entri\", \"2023\", sep=\"*\", end=\"\\b\\b\\b\\b\")\n",
        "\n",
        "\n"
      ],
      "metadata": {
        "colab": {
          "base_uri": "https://localhost:8080/"
        },
        "id": "cgQVEZybKzrI",
        "outputId": "bfcda65a-06af-40f1-e7b0-ddc4c78865ea"
      },
      "execution_count": null,
      "outputs": [
        {
          "output_type": "stream",
          "name": "stdout",
          "text": [
            "python is an \"awesome\" language.\n",
            "python\n",
            "\t2023\n",
            "I'm from Entri.\b\n",
            "5\n",
            "e\n",
            "Entri\n",
            "2023\n",
            "Entri\b2023\n",
            "Entri*2023\b\b\b\b"
          ]
        }
      ]
    },
    {
      "cell_type": "markdown",
      "source": [
        "# ***Question 7***"
      ],
      "metadata": {
        "id": "xavten3dg2N8"
      }
    },
    {
      "cell_type": "markdown",
      "source": [
        "Define the variables below. Print the types of each variable. What is the sum of your variables? (Hint: use a type conversion function.) What datatype is the sum?\n",
        "num=23\n",
        "textnum=\"57\"\n",
        "decimal=98.3\n"
      ],
      "metadata": {
        "id": "L5CIkfxPg939"
      }
    },
    {
      "cell_type": "code",
      "source": [
        "num = 23\n",
        "textnum = \"57\"\n",
        "decimal = 98.3\n",
        "\n",
        "print(\"Type of num:\", type(num))\n",
        "print(\"Type of textnum:\", type(textnum))\n",
        "print(\"Type of decimal:\", type(decimal))\n",
        "textnum_int = int(textnum)\n",
        "total_sum = num + textnum_int + decimal\n",
        "print(\"Sum of the variables:\", total_sum)\n",
        "print(\"Type of the sum:\", type(total_sum))"
      ],
      "metadata": {
        "id": "9LDmNLYmL0e1",
        "colab": {
          "base_uri": "https://localhost:8080/"
        },
        "outputId": "03195409-2a85-4aa3-85fe-743e31c09b2c"
      },
      "execution_count": null,
      "outputs": [
        {
          "output_type": "stream",
          "name": "stdout",
          "text": [
            "Type of num: <class 'int'>\n",
            "Type of textnum: <class 'str'>\n",
            "Type of decimal: <class 'float'>\n",
            "Sum of the variables: 178.3\n",
            "Type of the sum: <class 'float'>\n"
          ]
        }
      ]
    },
    {
      "cell_type": "markdown",
      "source": [
        "# ***Question 8***"
      ],
      "metadata": {
        "id": "wLh3snPAh-oH"
      }
    },
    {
      "cell_type": "markdown",
      "source": [
        "calculate the number of minutes in a year using variables for each unit of time. print a statement that describes what your code does also. Create three variables to store no of days in a year, minute in a hour, hours in a day, then calculate the total minutes in a year and print the values\n",
        "(hint) total number of minutes in an year =No.of days in an year * Hours in a day * Minutes in an hour\n"
      ],
      "metadata": {
        "id": "SC8okoRyiEcE"
      }
    },
    {
      "cell_type": "code",
      "source": [
        "days_in_a_year = 365  # Number of days in a year\n",
        "hours_in_a_day = 24   # Number of hours in a day\n",
        "minutes_in_an_hour = 60 #Number of minutes in an hour\n",
        "total_minutes_in_a_year = days_in_a_year * hours_in_a_day * minutes_in_an_hour\n",
        "print(\"This program calculates the total number of minutes in a year using the formula:\")\n",
        "print(\"Total minutes in a year = Number of days in a year * Hours in a day * Minutes in an hour\")\n",
        "print(f\"Number of days in a year: {days_in_a_year}\")\n",
        "print(f\"Number of hours in a day: {hours_in_a_day}\")\n",
        "print(f\"Number of minutes in an hour: {minutes_in_an_hour}\")\n",
        "print(f\"Total number of minutes in a year: {total_minutes_in_a_year}\")"
      ],
      "metadata": {
        "colab": {
          "base_uri": "https://localhost:8080/"
        },
        "id": "aumhngHGhrJ_",
        "outputId": "c4090dca-2bd3-4b7b-8f56-4801af09dcf0"
      },
      "execution_count": null,
      "outputs": [
        {
          "output_type": "stream",
          "name": "stdout",
          "text": [
            "This program calculates the total number of minutes in a year using the formula:\n",
            "Total minutes in a year = Number of days in a year * Hours in a day * Minutes in an hour\n",
            "Number of days in a year: 365\n",
            "Number of hours in a day: 24\n",
            "Number of minutes in an hour: 60\n",
            "Total number of minutes in a year: 525600\n"
          ]
        }
      ]
    },
    {
      "cell_type": "markdown",
      "source": [
        "# ***Question 9***"
      ],
      "metadata": {
        "id": "HZzz2PAuk-Rc"
      }
    },
    {
      "cell_type": "markdown",
      "source": [
        "Write Python code that asks the user to enter his/her name and then output/prints his/her name with a greeting.\n",
        "An example runs of the program:\n",
        "Please enter you name: Tony\n",
        "Hi Tony, welcome to Python programming :)\n"
      ],
      "metadata": {
        "id": "gEqFxpE1lVKh"
      }
    },
    {
      "cell_type": "code",
      "source": [
        "name = input(\"Please enter your name: \")\n",
        "print(f\"Hi {name}, welcome to Python programming!\")"
      ],
      "metadata": {
        "colab": {
          "base_uri": "https://localhost:8080/"
        },
        "id": "XisKmmH2jzf5",
        "outputId": "bc6e3f15-2198-4980-a04e-f54a96e4a021"
      },
      "execution_count": null,
      "outputs": [
        {
          "output_type": "stream",
          "name": "stdout",
          "text": [
            "Please enter your name: RANIL KR\n",
            "Hi RANIL KR, welcome to Python programming!\n"
          ]
        }
      ]
    }
  ]
}