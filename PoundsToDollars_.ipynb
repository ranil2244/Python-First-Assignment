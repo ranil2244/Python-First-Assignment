{
  "nbformat": 4,
  "nbformat_minor": 0,
  "metadata": {
    "colab": {
      "provenance": []
    },
    "kernelspec": {
      "name": "python3",
      "display_name": "Python 3"
    },
    "language_info": {
      "name": "python"
    }
  },
  "cells": [
    {
      "cell_type": "markdown",
      "source": [
        "# ***Question 10***"
      ],
      "metadata": {
        "id": "Qj32cO7ctwEJ"
      }
    },
    {
      "cell_type": "markdown",
      "source": [
        "Name your file: PoundsToDollars.py Write a program that asks the user to enter an amount in pounds (£) and the program calculates and converts an amount in dollar ( )Anexamplerunsoftheprogram:Pleaseenteramountinpounds:XXX£XXXare  XXX"
      ],
      "metadata": {
        "id": "LMZsGmBpuESm"
      }
    },
    {
      "cell_type": "code",
      "source": [
        "conversion_rate = 1.25\n",
        "pounds = float(input(\"Please enter amount in pounds: \"))\n",
        "dollars = pounds * conversion_rate\n",
        "print(f\"£{pounds:.2f} are ${dollars:.2f}\")\n"
      ],
      "metadata": {
        "colab": {
          "base_uri": "https://localhost:8080/"
        },
        "id": "ZXs4ITbruCnM",
        "outputId": "f9b9dd1e-e46d-45c7-c327-ed6bfb5669e0"
      },
      "execution_count": null,
      "outputs": [
        {
          "output_type": "stream",
          "name": "stdout",
          "text": [
            "Please enter amount in pounds: 100\n",
            "£100.00 are $125.00\n"
          ]
        }
      ]
    },
    {
      "cell_type": "code",
      "source": [],
      "metadata": {
        "id": "8Bs-6WmuuKRq"
      },
      "execution_count": null,
      "outputs": []
    }
  ]
}